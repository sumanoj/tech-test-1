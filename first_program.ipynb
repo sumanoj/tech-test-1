{
  "nbformat": 4,
  "nbformat_minor": 0,
  "metadata": {
    "colab": {
      "name": "first_program.ipynb",
      "provenance": [],
      "mount_file_id": "1X_Z4zSYUJYUiCY7pC4jHg_JE-PRHUhun",
      "authorship_tag": "ABX9TyNzeJ3DTgj6/ECSgpq4ifv7",
      "include_colab_link": true
    },
    "kernelspec": {
      "name": "python3",
      "display_name": "Python 3"
    }
  },
  "cells": [
    {
      "cell_type": "markdown",
      "metadata": {
        "id": "view-in-github",
        "colab_type": "text"
      },
      "source": [
        "<a href=\"https://colab.research.google.com/github/sumanoj/tech-test-1/blob/master/first_program.ipynb\" target=\"_parent\"><img src=\"https://colab.research.google.com/assets/colab-badge.svg\" alt=\"Open In Colab\"/></a>"
      ]
    },
    {
      "cell_type": "code",
      "metadata": {
        "id": "hMVEaWzjzTCi",
        "colab_type": "code",
        "colab": {
          "base_uri": "https://localhost:8080/",
          "height": 34
        },
        "outputId": "863e74ca-173f-4285-a3ab-41b817aa88a1"
      },
      "source": [
        "import pandas as pd\n",
        "import numpy as np\n",
        "a = 5\n",
        "b = 6\n",
        "c = a+b\n",
        "c\n"
      ],
      "execution_count": 4,
      "outputs": [
        {
          "output_type": "execute_result",
          "data": {
            "text/plain": [
              "11"
            ]
          },
          "metadata": {
            "tags": []
          },
          "execution_count": 4
        }
      ]
    },
    {
      "cell_type": "code",
      "metadata": {
        "id": "KUdlPdRMzff1",
        "colab_type": "code",
        "colab": {}
      },
      "source": [
        ""
      ],
      "execution_count": 0,
      "outputs": []
    }
  ]
}